{
 "cells": [
  {
   "cell_type": "markdown",
   "metadata": {},
   "source": [
    "# Appendix"
   ]
  },
  {
   "cell_type": "markdown",
   "metadata": {},
   "source": [
    "# Rain in Australia"
   ]
  },
  {
   "cell_type": "markdown",
   "metadata": {},
   "source": [
    "### Jose Luis Estrada and Dallin Munger"
   ]
  },
  {
   "cell_type": "markdown",
   "metadata": {},
   "source": [
    "The Rain in Australia dataset contains about ten years (November 2007- June 2017) of daily weather observations from many locations across Australia. This project aims to predict the target variable “Rain Tomorrow,” which means whether it rained the following day or not. Predictions will be made through different data mining processes/machine learning algorithms and select the algorithms' best predictor. The dataset was acquired through Kaggle.com in March 2021."
   ]
  },
  {
   "cell_type": "markdown",
   "metadata": {},
   "source": [
    "### Import packages, dataset and describe characteristics of dataframe"
   ]
  },
  {
   "cell_type": "code",
   "execution_count": 1,
   "metadata": {},
   "outputs": [],
   "source": [
    "#Import packages to manipulate dataset, visualizations, and data mining processes\n",
    "import pandas as pd\n",
    "import numpy as np\n",
    "import matplotlib.pyplot as plt\n",
    "import scipy.stats as spstats\n",
    "import warnings\n",
    "from sklearn.model_selection import train_test_split\n",
    "from sklearn.linear_model import LogisticRegression\n",
    "from sklearn.ensemble import RandomForestClassifier\n",
    "from sklearn.metrics import confusion_matrix\n",
    "from sklearn.metrics import classification_report"
   ]
  },
  {
   "cell_type": "code",
   "execution_count": 2,
   "metadata": {},
   "outputs": [
    {
     "data": {
      "text/html": [
       "<div>\n",
       "<style scoped>\n",
       "    .dataframe tbody tr th:only-of-type {\n",
       "        vertical-align: middle;\n",
       "    }\n",
       "\n",
       "    .dataframe tbody tr th {\n",
       "        vertical-align: top;\n",
       "    }\n",
       "\n",
       "    .dataframe thead th {\n",
       "        text-align: right;\n",
       "    }\n",
       "</style>\n",
       "<table border=\"1\" class=\"dataframe\">\n",
       "  <thead>\n",
       "    <tr style=\"text-align: right;\">\n",
       "      <th></th>\n",
       "      <th>Date</th>\n",
       "      <th>Location</th>\n",
       "      <th>MinTemp</th>\n",
       "      <th>MaxTemp</th>\n",
       "      <th>Rainfall</th>\n",
       "      <th>Evaporation</th>\n",
       "      <th>Sunshine</th>\n",
       "      <th>WindGustDir</th>\n",
       "      <th>WindGustSpeed</th>\n",
       "      <th>WindDir9am</th>\n",
       "      <th>...</th>\n",
       "      <th>Humidity9am</th>\n",
       "      <th>Humidity3pm</th>\n",
       "      <th>Pressure9am</th>\n",
       "      <th>Pressure3pm</th>\n",
       "      <th>Cloud9am</th>\n",
       "      <th>Cloud3pm</th>\n",
       "      <th>Temp9am</th>\n",
       "      <th>Temp3pm</th>\n",
       "      <th>RainToday</th>\n",
       "      <th>RainTomorrow</th>\n",
       "    </tr>\n",
       "  </thead>\n",
       "  <tbody>\n",
       "    <tr>\n",
       "      <th>0</th>\n",
       "      <td>2008-12-01</td>\n",
       "      <td>Albury</td>\n",
       "      <td>13.4</td>\n",
       "      <td>22.9</td>\n",
       "      <td>0.6</td>\n",
       "      <td>NaN</td>\n",
       "      <td>NaN</td>\n",
       "      <td>W</td>\n",
       "      <td>44.0</td>\n",
       "      <td>W</td>\n",
       "      <td>...</td>\n",
       "      <td>71.0</td>\n",
       "      <td>22.0</td>\n",
       "      <td>1007.7</td>\n",
       "      <td>1007.1</td>\n",
       "      <td>8.0</td>\n",
       "      <td>NaN</td>\n",
       "      <td>16.9</td>\n",
       "      <td>21.8</td>\n",
       "      <td>No</td>\n",
       "      <td>No</td>\n",
       "    </tr>\n",
       "    <tr>\n",
       "      <th>1</th>\n",
       "      <td>2008-12-02</td>\n",
       "      <td>Albury</td>\n",
       "      <td>7.4</td>\n",
       "      <td>25.1</td>\n",
       "      <td>0.0</td>\n",
       "      <td>NaN</td>\n",
       "      <td>NaN</td>\n",
       "      <td>WNW</td>\n",
       "      <td>44.0</td>\n",
       "      <td>NNW</td>\n",
       "      <td>...</td>\n",
       "      <td>44.0</td>\n",
       "      <td>25.0</td>\n",
       "      <td>1010.6</td>\n",
       "      <td>1007.8</td>\n",
       "      <td>NaN</td>\n",
       "      <td>NaN</td>\n",
       "      <td>17.2</td>\n",
       "      <td>24.3</td>\n",
       "      <td>No</td>\n",
       "      <td>No</td>\n",
       "    </tr>\n",
       "    <tr>\n",
       "      <th>2</th>\n",
       "      <td>2008-12-03</td>\n",
       "      <td>Albury</td>\n",
       "      <td>12.9</td>\n",
       "      <td>25.7</td>\n",
       "      <td>0.0</td>\n",
       "      <td>NaN</td>\n",
       "      <td>NaN</td>\n",
       "      <td>WSW</td>\n",
       "      <td>46.0</td>\n",
       "      <td>W</td>\n",
       "      <td>...</td>\n",
       "      <td>38.0</td>\n",
       "      <td>30.0</td>\n",
       "      <td>1007.6</td>\n",
       "      <td>1008.7</td>\n",
       "      <td>NaN</td>\n",
       "      <td>2.0</td>\n",
       "      <td>21.0</td>\n",
       "      <td>23.2</td>\n",
       "      <td>No</td>\n",
       "      <td>No</td>\n",
       "    </tr>\n",
       "    <tr>\n",
       "      <th>3</th>\n",
       "      <td>2008-12-04</td>\n",
       "      <td>Albury</td>\n",
       "      <td>9.2</td>\n",
       "      <td>28.0</td>\n",
       "      <td>0.0</td>\n",
       "      <td>NaN</td>\n",
       "      <td>NaN</td>\n",
       "      <td>NE</td>\n",
       "      <td>24.0</td>\n",
       "      <td>SE</td>\n",
       "      <td>...</td>\n",
       "      <td>45.0</td>\n",
       "      <td>16.0</td>\n",
       "      <td>1017.6</td>\n",
       "      <td>1012.8</td>\n",
       "      <td>NaN</td>\n",
       "      <td>NaN</td>\n",
       "      <td>18.1</td>\n",
       "      <td>26.5</td>\n",
       "      <td>No</td>\n",
       "      <td>No</td>\n",
       "    </tr>\n",
       "    <tr>\n",
       "      <th>4</th>\n",
       "      <td>2008-12-05</td>\n",
       "      <td>Albury</td>\n",
       "      <td>17.5</td>\n",
       "      <td>32.3</td>\n",
       "      <td>1.0</td>\n",
       "      <td>NaN</td>\n",
       "      <td>NaN</td>\n",
       "      <td>W</td>\n",
       "      <td>41.0</td>\n",
       "      <td>ENE</td>\n",
       "      <td>...</td>\n",
       "      <td>82.0</td>\n",
       "      <td>33.0</td>\n",
       "      <td>1010.8</td>\n",
       "      <td>1006.0</td>\n",
       "      <td>7.0</td>\n",
       "      <td>8.0</td>\n",
       "      <td>17.8</td>\n",
       "      <td>29.7</td>\n",
       "      <td>No</td>\n",
       "      <td>No</td>\n",
       "    </tr>\n",
       "  </tbody>\n",
       "</table>\n",
       "<p>5 rows × 23 columns</p>\n",
       "</div>"
      ],
      "text/plain": [
       "         Date Location  MinTemp  MaxTemp  Rainfall  Evaporation  Sunshine  \\\n",
       "0  2008-12-01   Albury     13.4     22.9       0.6          NaN       NaN   \n",
       "1  2008-12-02   Albury      7.4     25.1       0.0          NaN       NaN   \n",
       "2  2008-12-03   Albury     12.9     25.7       0.0          NaN       NaN   \n",
       "3  2008-12-04   Albury      9.2     28.0       0.0          NaN       NaN   \n",
       "4  2008-12-05   Albury     17.5     32.3       1.0          NaN       NaN   \n",
       "\n",
       "  WindGustDir  WindGustSpeed WindDir9am  ... Humidity9am  Humidity3pm  \\\n",
       "0           W           44.0          W  ...        71.0         22.0   \n",
       "1         WNW           44.0        NNW  ...        44.0         25.0   \n",
       "2         WSW           46.0          W  ...        38.0         30.0   \n",
       "3          NE           24.0         SE  ...        45.0         16.0   \n",
       "4           W           41.0        ENE  ...        82.0         33.0   \n",
       "\n",
       "   Pressure9am  Pressure3pm  Cloud9am  Cloud3pm  Temp9am  Temp3pm  RainToday  \\\n",
       "0       1007.7       1007.1       8.0       NaN     16.9     21.8         No   \n",
       "1       1010.6       1007.8       NaN       NaN     17.2     24.3         No   \n",
       "2       1007.6       1008.7       NaN       2.0     21.0     23.2         No   \n",
       "3       1017.6       1012.8       NaN       NaN     18.1     26.5         No   \n",
       "4       1010.8       1006.0       7.0       8.0     17.8     29.7         No   \n",
       "\n",
       "   RainTomorrow  \n",
       "0            No  \n",
       "1            No  \n",
       "2            No  \n",
       "3            No  \n",
       "4            No  \n",
       "\n",
       "[5 rows x 23 columns]"
      ]
     },
     "execution_count": 2,
     "metadata": {},
     "output_type": "execute_result"
    }
   ],
   "source": [
    "#Import dataset with Australia's weather data\n",
    "australia = pd.read_csv(\"weatherAUS.csv\")\n",
    "australia.head()"
   ]
  },
  {
   "cell_type": "code",
   "execution_count": 3,
   "metadata": {},
   "outputs": [
    {
     "data": {
      "text/plain": [
       "(145460, 23)"
      ]
     },
     "execution_count": 3,
     "metadata": {},
     "output_type": "execute_result"
    }
   ],
   "source": [
    "#Print dimension of australia dataframe\n",
    "australia.shape"
   ]
  },
  {
   "cell_type": "code",
   "execution_count": 4,
   "metadata": {},
   "outputs": [
    {
     "name": "stdout",
     "output_type": "stream",
     "text": [
      "<class 'pandas.core.frame.DataFrame'>\n",
      "RangeIndex: 145460 entries, 0 to 145459\n",
      "Data columns (total 23 columns):\n",
      " #   Column         Non-Null Count   Dtype  \n",
      "---  ------         --------------   -----  \n",
      " 0   Date           145460 non-null  object \n",
      " 1   Location       145460 non-null  object \n",
      " 2   MinTemp        143975 non-null  float64\n",
      " 3   MaxTemp        144199 non-null  float64\n",
      " 4   Rainfall       142199 non-null  float64\n",
      " 5   Evaporation    82670 non-null   float64\n",
      " 6   Sunshine       75625 non-null   float64\n",
      " 7   WindGustDir    135134 non-null  object \n",
      " 8   WindGustSpeed  135197 non-null  float64\n",
      " 9   WindDir9am     134894 non-null  object \n",
      " 10  WindDir3pm     141232 non-null  object \n",
      " 11  WindSpeed9am   143693 non-null  float64\n",
      " 12  WindSpeed3pm   142398 non-null  float64\n",
      " 13  Humidity9am    142806 non-null  float64\n",
      " 14  Humidity3pm    140953 non-null  float64\n",
      " 15  Pressure9am    130395 non-null  float64\n",
      " 16  Pressure3pm    130432 non-null  float64\n",
      " 17  Cloud9am       89572 non-null   float64\n",
      " 18  Cloud3pm       86102 non-null   float64\n",
      " 19  Temp9am        143693 non-null  float64\n",
      " 20  Temp3pm        141851 non-null  float64\n",
      " 21  RainToday      142199 non-null  object \n",
      " 22  RainTomorrow   142193 non-null  object \n",
      "dtypes: float64(16), object(7)\n",
      "memory usage: 25.5+ MB\n"
     ]
    }
   ],
   "source": [
    "#Print type of variables of each column\n",
    "australia.info()"
   ]
  },
  {
   "cell_type": "markdown",
   "metadata": {},
   "source": [
    "### Cleaning, wrangling, and handling missing data"
   ]
  },
  {
   "cell_type": "markdown",
   "metadata": {},
   "source": [
    "Each variable is revised to find which of these has a more significant amount of missing data. Those variables are eliminated to input data into analytical process, visualizations, and data mining/machine learning processes. Variables missing fewer data (<~10%) will replace their missing cells with the same variable median."
   ]
  },
  {
   "cell_type": "code",
   "execution_count": 5,
   "metadata": {},
   "outputs": [
    {
     "data": {
      "text/plain": [
       "Date             0.000000\n",
       "Location         0.000000\n",
       "MinTemp          0.010209\n",
       "MaxTemp          0.008669\n",
       "Rainfall         0.022419\n",
       "Evaporation      0.431665\n",
       "Sunshine         0.480098\n",
       "WindGustDir      0.070989\n",
       "WindGustSpeed    0.070555\n",
       "WindDir9am       0.072639\n",
       "WindDir3pm       0.029066\n",
       "WindSpeed9am     0.012148\n",
       "WindSpeed3pm     0.021050\n",
       "Humidity9am      0.018246\n",
       "Humidity3pm      0.030984\n",
       "Pressure9am      0.103568\n",
       "Pressure3pm      0.103314\n",
       "Cloud9am         0.384216\n",
       "Cloud3pm         0.408071\n",
       "Temp9am          0.012148\n",
       "Temp3pm          0.024811\n",
       "RainToday        0.022419\n",
       "RainTomorrow     0.022460\n",
       "dtype: float64"
      ]
     },
     "execution_count": 5,
     "metadata": {},
     "output_type": "execute_result"
    }
   ],
   "source": [
    "#Check percentage of missing data per variable\n",
    "australia.isnull().sum()/len(australia)"
   ]
  },
  {
   "cell_type": "code",
   "execution_count": 6,
   "metadata": {},
   "outputs": [],
   "source": [
    "#Drop variables that are missing larger amount of data \n",
    "#Variables are missing more than 15% of data\n",
    "australia.drop(['Evaporation', 'Sunshine', 'Cloud9am', 'Cloud3pm'], inplace = True, axis = 1)\n",
    "\n",
    "#Replace missing cells with the median of each variable for numeric variables\n",
    "australia['MinTemp'].fillna((australia['MinTemp'].median()), inplace=True)\n",
    "australia['MaxTemp'].fillna((australia['MaxTemp'].median()), inplace=True)\n",
    "australia['Rainfall'].fillna((australia['Rainfall'].median()), inplace=True)\n",
    "australia['WindGustSpeed'].fillna((australia['WindGustSpeed'].median()), inplace=True)\n",
    "australia['WindSpeed9am'].fillna((australia['WindSpeed9am'].median()), inplace=True)\n",
    "australia['WindSpeed3pm'].fillna((australia['WindSpeed3pm'].median()), inplace=True)\n",
    "australia['Humidity9am'].fillna((australia['Humidity9am'].median()), inplace=True)\n",
    "australia['Humidity3pm'].fillna((australia['Humidity3pm'].median()), inplace=True)\n",
    "australia['Pressure9am'].fillna((australia['Pressure9am'].median()), inplace=True)\n",
    "australia['Pressure3pm'].fillna((australia['Pressure3pm'].median()), inplace=True)\n",
    "australia['Temp9am'].fillna((australia['Temp9am'].median()), inplace=True)\n",
    "australia['Temp3pm'].fillna((australia['Temp3pm'].median()), inplace=True)\n",
    "\n",
    "#Eliminate missing rows with missing values for categorical variables\n",
    "australia.dropna(subset=['WindGustDir', 'WindDir9am', 'WindDir3pm', 'RainToday', 'RainTomorrow'], inplace=True)"
   ]
  },
  {
   "cell_type": "code",
   "execution_count": 7,
   "metadata": {},
   "outputs": [
    {
     "data": {
      "text/plain": [
       "(123710, 19)"
      ]
     },
     "execution_count": 7,
     "metadata": {},
     "output_type": "execute_result"
    }
   ],
   "source": [
    "australia.shape"
   ]
  },
  {
   "cell_type": "markdown",
   "metadata": {},
   "source": [
    "### Data exploration for categorial variables"
   ]
  },
  {
   "cell_type": "code",
   "execution_count": 8,
   "metadata": {},
   "outputs": [
    {
     "name": "stdout",
     "output_type": "stream",
     "text": [
      "WindGustDir      E   ENE   ESE     N    NE   NNE   NNW    NW     S    SE  \\\n",
      "RainTomorrow                                                               \n",
      "No            7237  6267  5715  5988  5288  4536  4246  5233  6537  7159   \n",
      "Yes           1267  1184  1111  2253  1198  1393  1729  2130  1871  1649   \n",
      "\n",
      "WindGustDir    SSE   SSW    SW     W   WNW   WSW  \n",
      "RainTomorrow                                      \n",
      "No            6852  6301  6577  6698  5340  6344  \n",
      "Yes           1634  1772  1638  2479  2129  1955  \n",
      "WindDir9am       E   ENE   ESE     N    NE   NNE   NNW    NW     S    SE  \\\n",
      "RainTomorrow                                                               \n",
      "No            7353  6119  6202  7479  5509  5567  5153  5365  6509  7184   \n",
      "Yes           1212  1280  1039  3284  1443  2021  2222  2045  1548  1272   \n",
      "\n",
      "WindDir9am     SSE   SSW    SW     W   WNW   WSW  \n",
      "RainTomorrow                                      \n",
      "No            7119  5547  5903  5476  4947  4886  \n",
      "Yes           1532  1504  1717  1940  1780  1553  \n",
      "WindDir3pm       E   ENE   ESE     N    NE   NNE   NNW    NW     S    SE  \\\n",
      "RainTomorrow                                                               \n",
      "No            6113  5814  6246  5607  5770  4407  4890  5147  6918  7312   \n",
      "Yes           1270  1248  1267  2198  1358  1429  1940  2108  1840  1643   \n",
      "\n",
      "WindDir3pm     SSE   SSW    SW     W   WNW   WSW  \n",
      "RainTomorrow                                      \n",
      "No            6804  5706  6653  6696  5672  6563  \n",
      "Yes           1600  1598  1554  2284  2234  1821  \n",
      "RainToday        No    Yes\n",
      "RainTomorrow              \n",
      "No            81476  14842\n",
      "Yes           14478  12914\n"
     ]
    },
    {
     "data": {
      "image/png": "[encoded data removed]",
      "text/plain": [
       "<Figure size 432x288 with 1 Axes>"
      ]
     },
     "metadata": {
      "needs_background": "light"
     },
     "output_type": "display_data"
    },
    {
     "data": {
      "image/png": "[encoded data removed]",
      "text/plain": [
       "<Figure size 864x864 with 4 Axes>"
      ]
     },
     "metadata": {
      "needs_background": "light"
     },
     "output_type": "display_data"
    }
   ],
   "source": [
    "#View the distribution of the categorical variables (WindGustDir, WindDir9am, WindDir3pm, RainToday, RainTomorrow) using stacked bar plot\n",
    "#Create function\n",
    "def create_tables(cat_variable, pos1, pos2):\n",
    "    table = pd.crosstab(australia[cat_variable], australia['RainTomorrow'])\n",
    "    table.plot(kind = 'bar', stacked = True, ax = axes[pos1, pos2])\n",
    "    print(table.T)\n",
    "\n",
    "def create_tables_normalized(cat_variable, pos1, pos2):\n",
    "    table = pd.crosstab(australia[cat_variable], australia['RainTomorrow'])\n",
    "    table_norm = table.div(table.sum(1), axis = 0)\n",
    "    table_norm.plot(kind = 'bar', stacked = True, ax = axes[pos1, pos2])\n",
    "    print(table_norm.T)\n",
    "\n",
    "#First print bar plot of response and percentage of each response, then original overlay\n",
    "australia['RainTomorrow'].value_counts(normalize = True).plot(kind = 'bar')\n",
    "\n",
    "figure, axes = plt.subplots(nrows = 2, ncols = 2, figsize = (12, 12))\n",
    "create_tables('WindGustDir', 0, 0)\n",
    "create_tables('WindDir9am', 0, 1)\n",
    "create_tables('WindDir3pm', 1, 0)\n",
    "create_tables('RainToday', 1, 1)  \n",
    "\n",
    "plt.subplots_adjust(wspace=0.3, hspace=0.3)"
   ]
  },
  {
   "cell_type": "code",
   "execution_count": 9,
   "metadata": {
    "scrolled": true
   },
   "outputs": [
    {
     "name": "stdout",
     "output_type": "stream",
     "text": [
      "WindGustDir          E       ENE      ESE         N        NE       NNE  \\\n",
      "RainTomorrow                                                              \n",
      "No            0.851011  0.841095  0.83724  0.726611  0.815294  0.765053   \n",
      "Yes           0.148989  0.158905  0.16276  0.273389  0.184706  0.234947   \n",
      "\n",
      "WindGustDir        NNW        NW         S        SE       SSE       SSW  \\\n",
      "RainTomorrow                                                               \n",
      "No            0.710628  0.710716  0.777474  0.812784  0.807448  0.780503   \n",
      "Yes           0.289372  0.289284  0.222526  0.187216  0.192552  0.219497   \n",
      "\n",
      "WindGustDir         SW         W       WNW       WSW  \n",
      "RainTomorrow                                          \n",
      "No            0.800609  0.729868  0.714955  0.764429  \n",
      "Yes           0.199391  0.270132  0.285045  0.235571  \n",
      "WindDir9am           E       ENE       ESE         N        NE       NNE  \\\n",
      "RainTomorrow                                                               \n",
      "No            0.858494  0.827004  0.856512  0.694881  0.792434  0.733658   \n",
      "Yes           0.141506  0.172996  0.143488  0.305119  0.207566  0.266342   \n",
      "\n",
      "WindDir9am         NNW        NW         S        SE       SSE       SSW  \\\n",
      "RainTomorrow                                                               \n",
      "No            0.698712  0.724022  0.807869  0.849574  0.822911  0.786697   \n",
      "Yes           0.301288  0.275978  0.192131  0.150426  0.177089  0.213303   \n",
      "\n",
      "WindDir9am          SW         W       WNW       WSW  \n",
      "RainTomorrow                                          \n",
      "No            0.774672  0.738403  0.735395  0.758813  \n",
      "Yes           0.225328  0.261597  0.264605  0.241187  \n",
      "WindDir3pm           E      ENE       ESE         N        NE       NNE  \\\n",
      "RainTomorrow                                                              \n",
      "No            0.827983  0.82328  0.831359  0.718386  0.809484  0.755141   \n",
      "Yes           0.172017  0.17672  0.168641  0.281614  0.190516  0.244859   \n",
      "\n",
      "WindDir3pm         NNW        NW         S        SE       SSE       SSW  \\\n",
      "RainTomorrow                                                               \n",
      "No            0.715959  0.709442  0.789906  0.816527  0.809614  0.781216   \n",
      "Yes           0.284041  0.290558  0.210094  0.183473  0.190386  0.218784   \n",
      "\n",
      "WindDir3pm          SW         W      WNW       WSW  \n",
      "RainTomorrow                                         \n",
      "No            0.810649  0.745657  0.71743  0.782801  \n",
      "Yes           0.189351  0.254343  0.28257  0.217199  \n",
      "RainToday           No       Yes\n",
      "RainTomorrow                    \n",
      "No            0.849115  0.534731\n",
      "Yes           0.150885  0.465269\n"
     ]
    },
    {
     "data": {
      "image/png": "[encoded data removed]",
      "text/plain": [
       "<Figure size 864x864 with 4 Axes>"
      ]
     },
     "metadata": {
      "needs_background": "light"
     },
     "output_type": "display_data"
    }
   ],
   "source": [
    "#Plot stacked bars for each categorical variable (normalized)\n",
    "figure, axes = plt.subplots(nrows = 2, ncols = 2, figsize = (12, 12))\n",
    "create_tables_normalized('WindGustDir', 0, 0)\n",
    "create_tables_normalized('WindDir9am', 0, 1)\n",
    "create_tables_normalized('WindDir3pm', 1, 0)\n",
    "create_tables_normalized('RainToday', 1, 1)  \n",
    "\n",
    "plt.subplots_adjust(wspace=0.3, hspace=0.3)"
   ]
  },
  {
   "cell_type": "markdown",
   "metadata": {},
   "source": [
    "RainToday looks like it could be a strong predictor of RainTomorrow. All the other categorical variables are similarly distributed between Yes and No across all values when compared to the actual distribution of RainTomorrow."
   ]
  },
  {
   "cell_type": "markdown",
   "metadata": {},
   "source": [
    "### Data exploration for numeric variables\n",
    "(MinTemp, MaxTemp, Rainfall, WindGustSpeed, WindSpeed9am, WindSpeed3pm, Humidity9am, Humidity3pm, Pressure9am, Pressure3pm, Temp9am, Temp3pm)"
   ]
  },
  {
   "cell_type": "code",
   "execution_count": 10,
   "metadata": {},
   "outputs": [
    {
     "data": {
      "text/html": [
       "<div>\n",
       "<style scoped>\n",
       "    .dataframe tbody tr th:only-of-type {\n",
       "        vertical-align: middle;\n",
       "    }\n",
       "\n",
       "    .dataframe tbody tr th {\n",
       "        vertical-align: top;\n",
       "    }\n",
       "\n",
       "    .dataframe thead th {\n",
       "        text-align: right;\n",
       "    }\n",
       "</style>\n",
       "<table border=\"1\" class=\"dataframe\">\n",
       "  <thead>\n",
       "    <tr style=\"text-align: right;\">\n",
       "      <th></th>\n",
       "      <th>MinTemp</th>\n",
       "      <th>MaxTemp</th>\n",
       "      <th>Rainfall</th>\n",
       "      <th>WindGustSpeed</th>\n",
       "      <th>WindSpeed9am</th>\n",
       "      <th>WindSpeed3pm</th>\n",
       "      <th>Humidity9am</th>\n",
       "      <th>Humidity3pm</th>\n",
       "      <th>Pressure9am</th>\n",
       "      <th>Pressure3pm</th>\n",
       "      <th>Temp9am</th>\n",
       "      <th>Temp3pm</th>\n",
       "    </tr>\n",
       "  </thead>\n",
       "  <tbody>\n",
       "    <tr>\n",
       "      <th>count</th>\n",
       "      <td>123710.000000</td>\n",
       "      <td>123710.000000</td>\n",
       "      <td>123710.000000</td>\n",
       "      <td>123710.000000</td>\n",
       "      <td>123710.000000</td>\n",
       "      <td>123710.000000</td>\n",
       "      <td>123710.000000</td>\n",
       "      <td>123710.000000</td>\n",
       "      <td>123710.000000</td>\n",
       "      <td>123710.000000</td>\n",
       "      <td>123710.000000</td>\n",
       "      <td>123710.000000</td>\n",
       "    </tr>\n",
       "    <tr>\n",
       "      <th>mean</th>\n",
       "      <td>12.413776</td>\n",
       "      <td>23.474582</td>\n",
       "      <td>2.375661</td>\n",
       "      <td>40.685280</td>\n",
       "      <td>15.011689</td>\n",
       "      <td>19.174578</td>\n",
       "      <td>67.673470</td>\n",
       "      <td>50.862574</td>\n",
       "      <td>1017.413025</td>\n",
       "      <td>1015.025408</td>\n",
       "      <td>17.268054</td>\n",
       "      <td>21.891956</td>\n",
       "    </tr>\n",
       "    <tr>\n",
       "      <th>std</th>\n",
       "      <td>6.366799</td>\n",
       "      <td>7.205915</td>\n",
       "      <td>8.528039</td>\n",
       "      <td>13.388636</td>\n",
       "      <td>8.307285</td>\n",
       "      <td>8.571039</td>\n",
       "      <td>18.976358</td>\n",
       "      <td>20.839815</td>\n",
       "      <td>6.765576</td>\n",
       "      <td>6.703695</td>\n",
       "      <td>6.477935</td>\n",
       "      <td>7.006134</td>\n",
       "    </tr>\n",
       "    <tr>\n",
       "      <th>min</th>\n",
       "      <td>-8.500000</td>\n",
       "      <td>-4.800000</td>\n",
       "      <td>0.000000</td>\n",
       "      <td>7.000000</td>\n",
       "      <td>2.000000</td>\n",
       "      <td>2.000000</td>\n",
       "      <td>0.000000</td>\n",
       "      <td>0.000000</td>\n",
       "      <td>980.500000</td>\n",
       "      <td>977.100000</td>\n",
       "      <td>-7.200000</td>\n",
       "      <td>-5.400000</td>\n",
       "    </tr>\n",
       "    <tr>\n",
       "      <th>25%</th>\n",
       "      <td>7.800000</td>\n",
       "      <td>18.100000</td>\n",
       "      <td>0.000000</td>\n",
       "      <td>31.000000</td>\n",
       "      <td>9.000000</td>\n",
       "      <td>13.000000</td>\n",
       "      <td>56.000000</td>\n",
       "      <td>36.000000</td>\n",
       "      <td>1013.200000</td>\n",
       "      <td>1010.700000</td>\n",
       "      <td>12.500000</td>\n",
       "      <td>16.800000</td>\n",
       "    </tr>\n",
       "    <tr>\n",
       "      <th>50%</th>\n",
       "      <td>12.200000</td>\n",
       "      <td>23.000000</td>\n",
       "      <td>0.000000</td>\n",
       "      <td>39.000000</td>\n",
       "      <td>13.000000</td>\n",
       "      <td>19.000000</td>\n",
       "      <td>69.000000</td>\n",
       "      <td>52.000000</td>\n",
       "      <td>1017.600000</td>\n",
       "      <td>1015.200000</td>\n",
       "      <td>16.900000</td>\n",
       "      <td>21.300000</td>\n",
       "    </tr>\n",
       "    <tr>\n",
       "      <th>75%</th>\n",
       "      <td>17.000000</td>\n",
       "      <td>28.600000</td>\n",
       "      <td>0.800000</td>\n",
       "      <td>48.000000</td>\n",
       "      <td>20.000000</td>\n",
       "      <td>24.000000</td>\n",
       "      <td>81.000000</td>\n",
       "      <td>65.000000</td>\n",
       "      <td>1021.700000</td>\n",
       "      <td>1019.300000</td>\n",
       "      <td>21.900000</td>\n",
       "      <td>26.700000</td>\n",
       "    </tr>\n",
       "    <tr>\n",
       "      <th>max</th>\n",
       "      <td>33.900000</td>\n",
       "      <td>48.100000</td>\n",
       "      <td>367.600000</td>\n",
       "      <td>135.000000</td>\n",
       "      <td>87.000000</td>\n",
       "      <td>87.000000</td>\n",
       "      <td>100.000000</td>\n",
       "      <td>100.000000</td>\n",
       "      <td>1041.000000</td>\n",
       "      <td>1039.600000</td>\n",
       "      <td>40.200000</td>\n",
       "      <td>46.700000</td>\n",
       "    </tr>\n",
       "  </tbody>\n",
       "</table>\n",
       "</div>"
      ],
      "text/plain": [
       "             MinTemp        MaxTemp       Rainfall  WindGustSpeed  \\\n",
       "count  123710.000000  123710.000000  123710.000000  123710.000000   \n",
       "mean       12.413776      23.474582       2.375661      40.685280   \n",
       "std         6.366799       7.205915       8.528039      13.388636   \n",
       "min        -8.500000      -4.800000       0.000000       7.000000   \n",
       "25%         7.800000      18.100000       0.000000      31.000000   \n",
       "50%        12.200000      23.000000       0.000000      39.000000   \n",
       "75%        17.000000      28.600000       0.800000      48.000000   \n",
       "max        33.900000      48.100000     367.600000     135.000000   \n",
       "\n",
       "        WindSpeed9am   WindSpeed3pm    Humidity9am    Humidity3pm  \\\n",
       "count  123710.000000  123710.000000  123710.000000  123710.000000   \n",
       "mean       15.011689      19.174578      67.673470      50.862574   \n",
       "std         8.307285       8.571039      18.976358      20.839815   \n",
       "min         2.000000       2.000000       0.000000       0.000000   \n",
       "25%         9.000000      13.000000      56.000000      36.000000   \n",
       "50%        13.000000      19.000000      69.000000      52.000000   \n",
       "75%        20.000000      24.000000      81.000000      65.000000   \n",
       "max        87.000000      87.000000     100.000000     100.000000   \n",
       "\n",
       "         Pressure9am    Pressure3pm        Temp9am        Temp3pm  \n",
       "count  123710.000000  123710.000000  123710.000000  123710.000000  \n",
       "mean     1017.413025    1015.025408      17.268054      21.891956  \n",
       "std         6.765576       6.703695       6.477935       7.006134  \n",
       "min       980.500000     977.100000      -7.200000      -5.400000  \n",
       "25%      1013.200000    1010.700000      12.500000      16.800000  \n",
       "50%      1017.600000    1015.200000      16.900000      21.300000  \n",
       "75%      1021.700000    1019.300000      21.900000      26.700000  \n",
       "max      1041.000000    1039.600000      40.200000      46.700000  "
      ]
     },
     "execution_count": 10,
     "metadata": {},
     "output_type": "execute_result"
    }
   ],
   "source": [
    "#Now explore numeric variables - first get summary statistics for each variable\n",
    "australia[['MinTemp', 'MaxTemp', 'Rainfall', 'WindGustSpeed', 'WindSpeed9am', 'WindSpeed3pm', 'Humidity9am', \n",
    "          'Humidity3pm', 'Pressure9am', 'Pressure3pm', 'Temp9am', 'Temp3pm']].describe()\n"
   ]
  },
  {
   "cell_type": "code",
   "execution_count": 11,
   "metadata": {},
   "outputs": [
    {
     "name": "stdout",
     "output_type": "stream",
     "text": [
      "['MinTemp', 0.07663243854313308]\n",
      "['MaxTemp', -0.16844953489963466]\n",
      "['Rainfall', 0.2408377719897318]\n",
      "['WindGustSpeed', 0.23654119445449617]\n",
      "['WindSpeed9am', 0.093531282439093]\n",
      "['WindSpeed3pm', 0.09602991028621156]\n",
      "['Humidity9am', 0.27315870313661006]\n",
      "['Humidity3pm', 0.4517707912188132]\n",
      "['Pressure9am', -0.23536395076494238]\n",
      "['Pressure3pm', -0.21559615309421867]\n",
      "['Temp9am', -0.03639018922205457]\n",
      "['Temp3pm', -0.2005074688050395]\n"
     ]
    }
   ],
   "source": [
    "#Calculate point-biserial correlation between response RainTomorrow and all numeric variables\n",
    "binary_RainTomorrow = australia['RainTomorrow'].replace(to_replace = ['No', 'Yes'], value = [0, 1])\n",
    "australia_numeric = ['MinTemp', 'MaxTemp', 'Rainfall', 'WindGustSpeed', 'WindSpeed9am', 'WindSpeed3pm', 'Humidity9am', \n",
    "          'Humidity3pm', 'Pressure9am', 'Pressure3pm', 'Temp9am', 'Temp3pm']\n",
    "for i in australia_numeric:\n",
    "    print([i, spstats.pointbiserialr(binary_RainTomorrow, australia[i])[0]])\n"
   ]
  },
  {
   "cell_type": "markdown",
   "metadata": {},
   "source": [
    "Humidity3pm has the strongest correlation with RainTomorrow with a correlation of 0.45. However, there are no really strong correlations between the numeric variables and RainTomorrow. \n",
    "\n",
    "We'll also look at histograms of each numeric variable with an overlay of RainTomorrow to understand the distribution and relationship between the variables better."
   ]
  },
  {
   "cell_type": "code",
   "execution_count": 12,
   "metadata": {},
   "outputs": [
    {
     "data": {
      "image/png": "[encoded data removed]",
      "text/plain": [
       "<Figure size 1080x1080 with 12 Axes>"
      ]
     },
     "metadata": {
      "needs_background": "light"
     },
     "output_type": "display_data"
    }
   ],
   "source": [
    "#Create function to plot histograms\n",
    "def create_hist(num_variable, pos):\n",
    "    aus_y = australia[australia['RainTomorrow'] == 'Yes'][num_variable]\n",
    "    aus_n = australia[australia['RainTomorrow'] == 'No'][num_variable]\n",
    "    plt.subplot(4, 3, pos)\n",
    "    plt.hist([aus_y, aus_n], stacked = True)\n",
    "    plt.legend(['Response = Yes', 'Response = No'])\n",
    "    plt.xlabel(num_variable)\n",
    "    plt.ylabel('Frequency')\n",
    "    \n",
    "plt.figure(figsize = (15, 15))\n",
    "create_hist('MinTemp', 1)\n",
    "create_hist('MaxTemp', 2)\n",
    "create_hist('Rainfall', 3)\n",
    "create_hist('WindGustSpeed', 4)\n",
    "create_hist('WindSpeed9am', 5)\n",
    "create_hist('WindSpeed3pm', 6)\n",
    "create_hist('Humidity9am', 7)\n",
    "create_hist('Humidity3pm', 8)\n",
    "create_hist('Pressure9am', 9)\n",
    "create_hist('Pressure3pm', 10)\n",
    "create_hist('Temp9am', 11)\n",
    "create_hist('Temp3pm', 12)\n",
    "\n",
    "plt.subplots_adjust(wspace=0.7, hspace=0.5)\n"
   ]
  },
  {
   "cell_type": "markdown",
   "metadata": {},
   "source": [
    "### Train and Test Set\n",
    "\n",
    "The next step is to prepare the data for modeling by dividing it into a training and a test set. The Date and Location variables are first removed from the dataset, and the predictor and response variables separated. Once  the predictors and the response variables have been separated, the data is split into a training set and a test set. The chosen split is a 70/30 split, with 30% of the data being contained in the test set."
   ]
  },
  {
   "cell_type": "code",
   "execution_count": 13,
   "metadata": {},
   "outputs": [],
   "source": [
    "#Drop date and location variables to reduce dataframe that includes dummy variables\n",
    "australia.drop(['Date', 'Location'], inplace = True, axis = 1)"
   ]
  },
  {
   "cell_type": "code",
   "execution_count": 14,
   "metadata": {},
   "outputs": [],
   "source": [
    "from sklearn.model_selection import train_test_split\n",
    "#Dropped dependent variable to create dummy variables\n",
    "X = australia.drop(['RainTomorrow'], axis = 1)\n",
    "#Add dummy variables for categorical data\n",
    "X = pd.get_dummies(X)\n",
    "y = australia['RainTomorrow']\n",
    "#Segmented dataframe into train and test set. Test set = 30%\n",
    "X_train, X_test, y_train, y_test = train_test_split(X, y, test_size = 0.3, random_state = 42, shuffle = True)"
   ]
  },
  {
   "cell_type": "markdown",
   "metadata": {},
   "source": [
    "### Logistic Regression\n",
    "\n",
    "Now that the data has been prepared and split, the models can be fit. For this problem, logistic regression and random forest models are fitted and the results compared."
   ]
  },
  {
   "cell_type": "code",
   "execution_count": 15,
   "metadata": {},
   "outputs": [
    {
     "name": "stdout",
     "output_type": "stream",
     "text": [
      "Accuracy of logistic regression classifier on test set: 0.84\n",
      "[[27450  1407]\n",
      " [ 4448  3808]]\n",
      "              precision    recall  f1-score   support\n",
      "\n",
      "          No       0.86      0.95      0.90     28857\n",
      "         Yes       0.73      0.46      0.57      8256\n",
      "\n",
      "    accuracy                           0.84     37113\n",
      "   macro avg       0.80      0.71      0.73     37113\n",
      "weighted avg       0.83      0.84      0.83     37113\n",
      "\n"
     ]
    }
   ],
   "source": [
    "import warnings\n",
    "warnings.filterwarnings(\"ignore\")\n",
    "from sklearn.linear_model import LogisticRegression\n",
    "#Fit the logistic regression model on the training data\n",
    "logreg = LogisticRegression()\n",
    "logreg.fit(X_train, y_train)\n",
    "#Validate the model by predicting on the test set\n",
    "y_pred = logreg.predict(X_test)\n",
    "#Print accuracy\n",
    "print('Accuracy of logistic regression classifier on test set: {:.2f}'.format(logreg.score(X_test, y_test)))\n",
    "\n",
    "#Print confusion matrix and key classification metrics\n",
    "from sklearn.metrics import confusion_matrix\n",
    "from sklearn.metrics import classification_report\n",
    "confusion_matrix = confusion_matrix(y_test, y_pred)\n",
    "print(confusion_matrix)\n",
    "print(classification_report(y_test, y_pred))"
   ]
  },
  {
   "cell_type": "markdown",
   "metadata": {},
   "source": [
    "The accuracy of the logistic regression model is 0.84, and the precision, recall, and F1 score are all shown as well. Next, a random forest model is fit on the data to compare the two models."
   ]
  },
  {
   "cell_type": "markdown",
   "metadata": {},
   "source": [
    "### Random Forest"
   ]
  },
  {
   "cell_type": "code",
   "execution_count": 16,
   "metadata": {},
   "outputs": [
    {
     "name": "stdout",
     "output_type": "stream",
     "text": [
      "Accuracy of random forest classifier on test set: 0.85\n",
      "[[27596  1261]\n",
      " [ 4177  4079]]\n",
      "              precision    recall  f1-score   support\n",
      "\n",
      "          No       0.87      0.96      0.91     28857\n",
      "         Yes       0.76      0.49      0.60      8256\n",
      "\n",
      "    accuracy                           0.85     37113\n",
      "   macro avg       0.82      0.73      0.76     37113\n",
      "weighted avg       0.85      0.85      0.84     37113\n",
      "\n"
     ]
    }
   ],
   "source": [
    "from sklearn.ensemble import RandomForestClassifier\n",
    "#Fit the random forest model on the training data with 100 trees using the Gini index for splitting\n",
    "randfor = RandomForestClassifier(n_estimators = 100, criterion = \"gini\")\n",
    "\n",
    "randfor.fit(X_train, y_train)\n",
    "#Validate the model on the test set\n",
    "y_pred_randfor = randfor.predict(X_test)\n",
    "#Print the accuracy of the model\n",
    "print('Accuracy of random forest classifier on test set: {:.2f}'.format(randfor.score(X_test, y_test)))\n",
    "#Print the confusion matrix and key classification metrics\n",
    "from sklearn.metrics import confusion_matrix\n",
    "from sklearn.metrics import classification_report\n",
    "confusion_matrix_randfor = confusion_matrix(y_test, y_pred_randfor)\n",
    "print(confusion_matrix_randfor)\n",
    "print(classification_report(y_test, y_pred_randfor))"
   ]
  },
  {
   "cell_type": "markdown",
   "metadata": {},
   "source": [
    "Based on the accuracy, precision, recall, and F1 score, the random forest model performs slightly better than the logistic regression model. This will be the final model."
   ]
  }
 ],
 "metadata": {
  "kernelspec": {
   "display_name": "Python 3",
   "language": "python",
   "name": "python3"
  },
  "language_info": {
   "codemirror_mode": {
    "name": "ipython",
    "version": 3
   },
   "file_extension": ".py",
   "mimetype": "text/x-python",
   "name": "python",
   "nbconvert_exporter": "python",
   "pygments_lexer": "ipython3",
   "version": "3.8.5"
  }
 },
 "nbformat": 4,
 "nbformat_minor": 4
}
